{
 "cells": [
  {
   "cell_type": "code",
   "execution_count": 26,
   "metadata": {},
   "outputs": [],
   "source": [
    "import ephem\n",
    "import time\n",
    "import math\n",
    "from datetime import datetime\n",
    "import requests\n",
    "import ISS_Info\n",
    "\n",
    "degrees_per_radian = 180.0 / math.pi"
   ]
  },
  {
   "cell_type": "code",
   "execution_count": 41,
   "metadata": {},
   "outputs": [
    {
     "name": "stdout",
     "output_type": "stream",
     "text": [
      "ISS (ZARYA)\n",
      "    \r\n",
      "1 25544U 98067A   21075.19763664  .00000872  00000-0  24056-4 0  9995\r\n",
      "\n",
      "2 25544  51.6434  82.6522 0003311 112.8488 344.6861 15.48910613274182\r\n"
     ]
    }
   ],
   "source": [
    "response = requests.get(\"https://www.celestrak.com/NORAD/elements/stations.txt\")\n",
    "data = response.text\n",
    "print(data[:11])\n",
    "print(data[20:97])\n",
    "print(data[97:167])\n"
   ]
  },
  {
   "cell_type": "code",
   "execution_count": 42,
   "metadata": {},
   "outputs": [
    {
     "data": {
      "text/plain": [
       "{'timestamp': 1615896544,\n",
       " 'message': 'success',\n",
       " 'iss_position': {'longitude': '101.2543', 'latitude': '19.9873'}}"
      ]
     },
     "execution_count": 42,
     "metadata": {},
     "output_type": "execute_result"
    }
   ],
   "source": [
    "ISS_Info.iss_current_loc()"
   ]
  },
  {
   "cell_type": "code",
   "execution_count": 43,
   "metadata": {},
   "outputs": [
    {
     "data": {
      "text/plain": [
       "'101.2956'"
      ]
     },
     "execution_count": 43,
     "metadata": {},
     "output_type": "execute_result"
    }
   ],
   "source": [
    "issLong = ISS_Info.iss_current_loc()[\"iss_position\"][\"longitude\"]\n",
    "issLong"
   ]
  },
  {
   "cell_type": "code",
   "execution_count": 44,
   "metadata": {},
   "outputs": [
    {
     "data": {
      "text/plain": [
       "'20.0845'"
      ]
     },
     "execution_count": 44,
     "metadata": {},
     "output_type": "execute_result"
    }
   ],
   "source": [
    "issLat = ISS_Info.iss_current_loc()[\"iss_position\"][\"latitude\"]\n",
    "issLat"
   ]
  },
  {
   "cell_type": "code",
   "execution_count": 45,
   "metadata": {},
   "outputs": [],
   "source": [
    "issCurrent = ephem.Observer()\n",
    "issCurrent.lat = issLat\n",
    "issCurrent.long = issLong\n",
    "issCurrent.elevation = 400000"
   ]
  },
  {
   "cell_type": "code",
   "execution_count": 46,
   "metadata": {},
   "outputs": [],
   "source": [
    "next_sunrise_datetime = issCurrent.next_rising(ephem.Sun()).datetime()\n",
    "next_sunset_datetime = issCurrent.next_setting(ephem.Sun()).datetime()"
   ]
  },
  {
   "cell_type": "code",
   "execution_count": 47,
   "metadata": {},
   "outputs": [
    {
     "name": "stdout",
     "output_type": "stream",
     "text": [
      "It's night.\n"
     ]
    }
   ],
   "source": [
    "it_is_day = next_sunset_datetime < next_sunrise_datetime\n",
    "print(\"It's day.\" if it_is_day else \"It's night.\")"
   ]
  },
  {
   "cell_type": "code",
   "execution_count": null,
   "metadata": {},
   "outputs": [],
   "source": []
  }
 ],
 "metadata": {
  "kernelspec": {
   "display_name": "Python 3",
   "language": "python",
   "name": "python3"
  },
  "language_info": {
   "codemirror_mode": {
    "name": "ipython",
    "version": 3
   },
   "file_extension": ".py",
   "mimetype": "text/x-python",
   "name": "python",
   "nbconvert_exporter": "python",
   "pygments_lexer": "ipython3",
   "version": "3.8.5"
  }
 },
 "nbformat": 4,
 "nbformat_minor": 4
}
