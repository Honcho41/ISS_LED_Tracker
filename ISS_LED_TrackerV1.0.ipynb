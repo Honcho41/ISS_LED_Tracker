{
 "cells": [
  {
   "cell_type": "code",
   "execution_count": 1,
   "metadata": {},
   "outputs": [],
   "source": [
    "import ephem\n",
    "import time\n",
    "import math\n",
    "from datetime import datetime\n",
    "import requests\n",
    "import ISS_Info\n",
    "\n",
    "degrees_per_radian = 180.0 / math.pi # convert radians to degrees"
   ]
  },
  {
   "cell_type": "code",
   "execution_count": 2,
   "metadata": {},
   "outputs": [],
   "source": [
    "# function to see if ISS is over observer's horizon\n",
    "def issOverHorizon():\n",
    "    # use requests module to extract text file from URL\n",
    "    response = requests.get(\"https://www.celestrak.com/NORAD/elements/stations.txt\")\n",
    "    data = response.text\n",
    "    \n",
    "    # use string splitting to extract relevant ISS data.\n",
    "    # this was done by trial and error and may not be accurate when the TLE updates every few weeks\n",
    "    iss = ephem.readtle(data[:11],\n",
    "                        data[20:97],\n",
    "                        data[97:167])\n",
    "    \n",
    "    # set home location using ephem Observer function\n",
    "    home = ephem.Observer()\n",
    "    home.lon, home.lat = '-2.14857', '51.53511'\n",
    "    home.elevation = 63 # meters\n",
    "    \n",
    "    # check if ISS is over 10 degrees above horizon\n",
    "    home.date = datetime.utcnow()\n",
    "    iss.compute(home)\n",
    "    altitude = iss.alt * degrees_per_radian\n",
    "    if altitude > 10:\n",
    "        return True\n",
    "    else:\n",
    "        return False\n",
    "    "
   ]
  },
  {
   "cell_type": "code",
   "execution_count": 3,
   "metadata": {},
   "outputs": [],
   "source": [
    "# function to check is ISS is in daylight\n",
    "def issDaylight():\n",
    "    # current ISS latitude and longitude from ISS_info module\n",
    "    issLong = ISS_Info.iss_current_loc()[\"iss_position\"][\"longitude\"]\n",
    "    issLat = ISS_Info.iss_current_loc()[\"iss_position\"][\"latitude\"]\n",
    "    \n",
    "    # set the ISS current location as ephem observer to be used in sunrise/set calcs later\n",
    "    issCurrent = ephem.Observer()\n",
    "    issCurrent.lat = issLat\n",
    "    issCurrent.long = issLong\n",
    "    issCurrent.elevation = 408000 # 408km above surface\n",
    "    \n",
    "    # use ephem module to get next sunrise/set times for ISS current location\n",
    "    next_sunrise_datetime = issCurrent.next_rising(ephem.Sun()).datetime()\n",
    "    next_sunset_datetime = issCurrent.next_setting(ephem.Sun()).datetime()\n",
    "    \n",
    "    # it is day if the next sunset is before the next sunrise\n",
    "    it_is_day = next_sunset_datetime < next_sunrise_datetime\n",
    "    \n",
    "    # should change this to return True/False when integrate neopixel LEDs.\n",
    "    print(\"Orange LED\" if it_is_day else \"Blue LED\")"
   ]
  },
  {
   "cell_type": "code",
   "execution_count": 4,
   "metadata": {},
   "outputs": [
    {
     "name": "stdout",
     "output_type": "stream",
     "text": [
      "Blue LED\n",
      "Blue LED\n",
      "Blue LED\n",
      "Blue LED\n",
      "Blue LED\n",
      "Blue LED\n",
      "Blue LED\n",
      "Blue LED\n",
      "Blue LED\n",
      "Blue LED\n",
      "Blue LED\n",
      "Blue LED\n",
      "Blue LED\n",
      "Blue LED\n",
      "Blue LED\n",
      "Blue LED\n",
      "Blue LED\n"
     ]
    },
    {
     "ename": "KeyboardInterrupt",
     "evalue": "",
     "output_type": "error",
     "traceback": [
      "\u001b[1;31m---------------------------------------------------------------------------\u001b[0m",
      "\u001b[1;31mKeyboardInterrupt\u001b[0m                         Traceback (most recent call last)",
      "\u001b[1;32m<ipython-input-4-f709e3e5ec92>\u001b[0m in \u001b[0;36m<module>\u001b[1;34m\u001b[0m\n\u001b[0;32m      4\u001b[0m     \u001b[1;32melse\u001b[0m\u001b[1;33m:\u001b[0m\u001b[1;33m\u001b[0m\u001b[1;33m\u001b[0m\u001b[0m\n\u001b[0;32m      5\u001b[0m         \u001b[0missDaylight\u001b[0m\u001b[1;33m(\u001b[0m\u001b[1;33m)\u001b[0m\u001b[1;33m\u001b[0m\u001b[1;33m\u001b[0m\u001b[0m\n\u001b[1;32m----> 6\u001b[1;33m     \u001b[0mtime\u001b[0m\u001b[1;33m.\u001b[0m\u001b[0msleep\u001b[0m\u001b[1;33m(\u001b[0m\u001b[1;36m1\u001b[0m\u001b[1;33m)\u001b[0m\u001b[1;33m\u001b[0m\u001b[1;33m\u001b[0m\u001b[0m\n\u001b[0m",
      "\u001b[1;31mKeyboardInterrupt\u001b[0m: "
     ]
    }
   ],
   "source": [
    "while True:\n",
    "    if issOverHorizon():\n",
    "        print(\"Bright White LED\")\n",
    "    else:\n",
    "        issDaylight()\n",
    "    time.sleep(1)"
   ]
  },
  {
   "cell_type": "code",
   "execution_count": null,
   "metadata": {},
   "outputs": [],
   "source": []
  },
  {
   "cell_type": "code",
   "execution_count": null,
   "metadata": {},
   "outputs": [],
   "source": []
  },
  {
   "cell_type": "code",
   "execution_count": null,
   "metadata": {},
   "outputs": [],
   "source": []
  },
  {
   "cell_type": "code",
   "execution_count": null,
   "metadata": {},
   "outputs": [],
   "source": []
  },
  {
   "cell_type": "code",
   "execution_count": null,
   "metadata": {},
   "outputs": [],
   "source": []
  },
  {
   "cell_type": "code",
   "execution_count": null,
   "metadata": {},
   "outputs": [],
   "source": []
  },
  {
   "cell_type": "code",
   "execution_count": null,
   "metadata": {},
   "outputs": [],
   "source": []
  },
  {
   "cell_type": "code",
   "execution_count": null,
   "metadata": {},
   "outputs": [],
   "source": []
  }
 ],
 "metadata": {
  "kernelspec": {
   "display_name": "Python 3",
   "language": "python",
   "name": "python3"
  },
  "language_info": {
   "codemirror_mode": {
    "name": "ipython",
    "version": 3
   },
   "file_extension": ".py",
   "mimetype": "text/x-python",
   "name": "python",
   "nbconvert_exporter": "python",
   "pygments_lexer": "ipython3",
   "version": "3.8.5"
  }
 },
 "nbformat": 4,
 "nbformat_minor": 4
}
